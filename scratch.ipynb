{
 "cells": [
  {
   "cell_type": "code",
   "execution_count": 10,
   "metadata": {},
   "outputs": [],
   "source": [
    "import pyautogui\n",
    "import time\n",
    "import cv2\n",
    "import matplotlib.pyplot as plt\n",
    "import numpy as np\n",
    "\n"
   ]
  },
  {
   "cell_type": "code",
   "execution_count": 93,
   "metadata": {},
   "outputs": [],
   "source": [
    "bobber = cv2.imread('assets/bobber5.png')\n",
    "frame = cv2.imread('assets/valdrakken_screenshot3.jpg', cv2.IMREAD_UNCHANGED)"
   ]
  },
  {
   "cell_type": "code",
   "execution_count": 17,
   "metadata": {},
   "outputs": [],
   "source": [
    "def find_edges(haystack):\n",
    "    gray = cv2.cvtColor(haystack, cv2.COLOR_BGR2GRAY)\n",
    "    blur = cv2.GaussianBlur(gray, (5,5), 0)\n",
    "    canny = cv2.Canny(blur, 50, 150)\n",
    "    return canny\n",
    "    \n"
   ]
  },
  {
   "cell_type": "code",
   "execution_count": 18,
   "metadata": {},
   "outputs": [
    {
     "data": {
      "image/png": "[encoded data removed]",
      "text/plain": [
       "<Figure size 640x480 with 1 Axes>"
      ]
     },
     "metadata": {},
     "output_type": "display_data"
    }
   ],
   "source": [
    "plt.imshow(find_edges(frame))\n",
    "plt.show()\n",
    "\n"
   ]
  },
  {
   "cell_type": "code",
   "execution_count": null,
   "metadata": {},
   "outputs": [],
   "source": []
  },
  {
   "cell_type": "code",
   "execution_count": 56,
   "metadata": {},
   "outputs": [],
   "source": [
    "def region_of_interest(image):\n",
    "\n",
    "    # create a region using the x/y of four points on a rectangle based on screen pixel dimensions\n",
    "    bottom_right = (2000,1000)\n",
    "    bottom_left = (500,1000)\n",
    "    top_left = (500,400)\n",
    "    top_right = (2000,400)\n",
    "    region = np.array([[[bottom_right, bottom_left, top_left, top_right]]])\n",
    "\n",
    "    # create a mask by starting with a black image same dimsions as the screenshot\n",
    "    # and filling the region rectangle with white\n",
    "    mask = np.zeros_like(image)\n",
    "    cv2.fillPoly(mask, region, 255)\n",
    "\n",
    "    masked_image = cv2.bitwise_and(image, mask)\n",
    "\n",
    "    return masked_image\n",
    "\n"
   ]
  },
  {
   "cell_type": "code",
   "execution_count": 96,
   "metadata": {},
   "outputs": [],
   "source": [
    "def label_bobber(image, mask):\n",
    "    \"\"\"\n",
    "\n",
    "    \"\"\"\n",
    "    image = np.copy(image)\n",
    "    # Each individual contour is a Numpy array of (x,y) coordinates of boundary points of the object\n",
    "    contours, _ = cv2.findContours(mask, cv2.RETR_TREE, cv2.CHAIN_APPROX_SIMPLE)\n",
    "\n",
    "    # find the contour with the largest area (to ignore sparkles etc)\n",
    "    bobber_contour = max(contours, key=cv2.contourArea)\n",
    "\n",
    "    # draw outlines on all the contours\n",
    "    cv2.drawContours(image, bobber_contour, -1, 255, 2)\n",
    "\n",
    "    # for contour in contours:\n",
    "        # create a bounding rectangle for the contour\n",
    "    (x, y, w, h) = cv2.boundingRect(bobber_contour)\n",
    "\n",
    "    # draw a rectangle around the corners\n",
    "    cv2.rectangle(image, (x, y), (x+w, y+h), (0, 0, 255), 2)\n",
    "\n",
    "\n",
    "    # put a dot in the middle\n",
    "    cX = np.int32(x + (w/2))\n",
    "    cY = np.int32(y + (h/2))\n",
    "    cv2.circle(image, (cX, cY), 5, (255,255,255), -1, 1)\n",
    "\n",
    "    # keep the centerpoint\n",
    "    # center.append([cX,cY])\n",
    "\n",
    "    # add some text for flavor\n",
    "    cv2.putText(image, \"bobber\", (cX-25, cY-25), cv2.FONT_HERSHEY_SIMPLEX, 0.4, (255,255,255), 1)\n",
    "\n",
    "    return image\n"
   ]
  },
  {
   "cell_type": "code",
   "execution_count": null,
   "metadata": {},
   "outputs": [],
   "source": []
  },
  {
   "cell_type": "code",
   "execution_count": 98,
   "metadata": {},
   "outputs": [
    {
     "data": {
      "text/plain": [
       "113"
      ]
     },
     "execution_count": 98,
     "metadata": {},
     "output_type": "execute_result"
    },
    {
     "ename": "",
     "evalue": "",
     "output_type": "error",
     "traceback": [
      "\u001b[1;31mThe Kernel crashed while executing code in the the current cell or a previous cell. Please review the code in the cell(s) to identify a possible cause of the failure. Click <a href='https://aka.ms/vscodeJupyterKernelCrash'>here</a> for more info. View Jupyter <a href='command:jupyter.viewOutput'>log</a> for further details."
     ]
    }
   ],
   "source": [
    "image = np.copy(frame)\n",
    "mask = region_of_interest(find_edges(image))\n",
    "result = label_bobber(image, mask)\n",
    "cv2.imshow(\"mask\",mask)\n",
    "cv2.imshow(\"result\", result)\n",
    "cv2.waitKey(0)\n",
    "\n",
    "\n",
    "# cv2.imshow(\"result\", region_of_interest(find_edges(frame)))\n",
    "# cv2.waitKey(0)"
   ]
  }
 ],
 "metadata": {
  "kernelspec": {
   "display_name": ".venv",
   "language": "python",
   "name": "python3"
  },
  "language_info": {
   "codemirror_mode": {
    "name": "ipython",
    "version": 3
   },
   "file_extension": ".py",
   "mimetype": "text/x-python",
   "name": "python",
   "nbconvert_exporter": "python",
   "pygments_lexer": "ipython3",
   "version": "3.10.9"
  },
  "orig_nbformat": 4,
  "vscode": {
   "interpreter": {
    "hash": "e48fd7eaa65924c540c731cc3bf6c62ced8aba895b38469c972aa04f57169f9f"
   }
  }
 },
 "nbformat": 4,
 "nbformat_minor": 2
}
