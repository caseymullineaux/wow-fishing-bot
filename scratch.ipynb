{
 "cells": [
  {
   "cell_type": "code",
   "execution_count": 2,
   "metadata": {},
   "outputs": [
    {
     "name": "stdout",
     "output_type": "stream",
     "text": [
      "<generator object _locateAll_opencv at 0x0000017316BE9640>\n",
      "<generator object _locateAll_opencv at 0x0000017335D25380>\n",
      "<generator object _locateAll_opencv at 0x0000017316BE9640>\n",
      "<generator object _locateAll_opencv at 0x0000017335D25380>\n",
      "<generator object _locateAll_opencv at 0x0000017316BE9640>\n",
      "<generator object _locateAll_opencv at 0x0000017335D25380>\n",
      "<generator object _locateAll_opencv at 0x0000017316BE9640>\n"
     ]
    },
    {
     "ename": "KeyboardInterrupt",
     "evalue": "",
     "output_type": "error",
     "traceback": [
      "\u001b[1;31m---------------------------------------------------------------------------\u001b[0m",
      "\u001b[1;31mKeyboardInterrupt\u001b[0m                         Traceback (most recent call last)",
      "Cell \u001b[1;32mIn[2], line 9\u001b[0m\n\u001b[0;32m      7\u001b[0m location \u001b[39m=\u001b[39m pyautogui\u001b[39m.\u001b[39mlocateAllOnScreen(\u001b[39m'\u001b[39m\u001b[39massets/bobber.png\u001b[39m\u001b[39m'\u001b[39m, grayscale\u001b[39m=\u001b[39m\u001b[39mTrue\u001b[39;00m, confidence\u001b[39m=\u001b[39m\u001b[39m.6\u001b[39m)\n\u001b[0;32m      8\u001b[0m \u001b[39mprint\u001b[39m(location)\n\u001b[1;32m----> 9\u001b[0m time\u001b[39m.\u001b[39;49msleep(\u001b[39m5\u001b[39;49m)\n",
      "\u001b[1;31mKeyboardInterrupt\u001b[0m: "
     ]
    }
   ],
   "source": [
    "import pyautogui\n",
    "import time\n",
    "# from pynput.keyboard import Key,Listener\n",
    "pyautogui.useImageNotFoundException()\n",
    "\n"
   ]
  },
  {
   "cell_type": "code",
   "execution_count": 20,
   "metadata": {},
   "outputs": [
    {
     "data": {
      "text/plain": [
       "[Box(left=1259, top=1393, width=47, height=41),\n",
       " Box(left=1260, top=1393, width=47, height=41),\n",
       " Box(left=1261, top=1393, width=47, height=41),\n",
       " Box(left=1262, top=1393, width=47, height=41),\n",
       " Box(left=1263, top=1393, width=47, height=41),\n",
       " Box(left=1258, top=1394, width=47, height=41),\n",
       " Box(left=1259, top=1394, width=47, height=41),\n",
       " Box(left=1260, top=1394, width=47, height=41),\n",
       " Box(left=1261, top=1394, width=47, height=41),\n",
       " Box(left=1262, top=1394, width=47, height=41),\n",
       " Box(left=1263, top=1394, width=47, height=41),\n",
       " Box(left=1258, top=1395, width=47, height=41),\n",
       " Box(left=1259, top=1395, width=47, height=41),\n",
       " Box(left=1260, top=1395, width=47, height=41),\n",
       " Box(left=1261, top=1395, width=47, height=41),\n",
       " Box(left=1262, top=1395, width=47, height=41),\n",
       " Box(left=1263, top=1395, width=47, height=41),\n",
       " Box(left=1264, top=1395, width=47, height=41),\n",
       " Box(left=1258, top=1396, width=47, height=41),\n",
       " Box(left=1259, top=1396, width=47, height=41),\n",
       " Box(left=1260, top=1396, width=47, height=41),\n",
       " Box(left=1261, top=1396, width=47, height=41),\n",
       " Box(left=1262, top=1396, width=47, height=41),\n",
       " Box(left=1263, top=1396, width=47, height=41),\n",
       " Box(left=1264, top=1396, width=47, height=41),\n",
       " Box(left=1265, top=1396, width=47, height=41),\n",
       " Box(left=1258, top=1397, width=47, height=41),\n",
       " Box(left=1259, top=1397, width=47, height=41),\n",
       " Box(left=1260, top=1397, width=47, height=41),\n",
       " Box(left=1261, top=1397, width=47, height=41),\n",
       " Box(left=1262, top=1397, width=47, height=41),\n",
       " Box(left=1263, top=1397, width=47, height=41),\n",
       " Box(left=1264, top=1397, width=47, height=41),\n",
       " Box(left=1265, top=1397, width=47, height=41),\n",
       " Box(left=1259, top=1398, width=47, height=41),\n",
       " Box(left=1260, top=1398, width=47, height=41),\n",
       " Box(left=1261, top=1398, width=47, height=41),\n",
       " Box(left=1262, top=1398, width=47, height=41),\n",
       " Box(left=1263, top=1398, width=47, height=41),\n",
       " Box(left=1264, top=1398, width=47, height=41),\n",
       " Box(left=1265, top=1398, width=47, height=41),\n",
       " Box(left=1259, top=1399, width=47, height=41),\n",
       " Box(left=1260, top=1399, width=47, height=41),\n",
       " Box(left=1261, top=1399, width=47, height=41),\n",
       " Box(left=1262, top=1399, width=47, height=41),\n",
       " Box(left=1263, top=1399, width=47, height=41),\n",
       " Box(left=1264, top=1399, width=47, height=41),\n",
       " Box(left=1265, top=1399, width=47, height=41)]"
      ]
     },
     "execution_count": 20,
     "metadata": {},
     "output_type": "execute_result"
    }
   ],
   "source": [
    "list(pyautogui.locateAllOnScreen('assets/bobber3.png', grayscale=True, confidence=.6))\n",
    "# x, y = pyautogui.center(location)\n",
    "# pyautogui.moveTo(x, y, 1, pyautogui.easeOutQuad)"
   ]
  },
  {
   "cell_type": "code",
   "execution_count": null,
   "metadata": {},
   "outputs": [],
   "source": []
  }
 ],
 "metadata": {
  "kernelspec": {
   "display_name": ".venv",
   "language": "python",
   "name": "python3"
  },
  "language_info": {
   "codemirror_mode": {
    "name": "ipython",
    "version": 3
   },
   "file_extension": ".py",
   "mimetype": "text/x-python",
   "name": "python",
   "nbconvert_exporter": "python",
   "pygments_lexer": "ipython3",
   "version": "3.10.9 (tags/v3.10.9:1dd9be6, Dec  6 2022, 20:01:21) [MSC v.1934 64 bit (AMD64)]"
  },
  "orig_nbformat": 4,
  "vscode": {
   "interpreter": {
    "hash": "e48fd7eaa65924c540c731cc3bf6c62ced8aba895b38469c972aa04f57169f9f"
   }
  }
 },
 "nbformat": 4,
 "nbformat_minor": 2
}
